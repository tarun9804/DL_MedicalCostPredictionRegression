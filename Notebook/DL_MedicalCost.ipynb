{
 "cells": [
  {
   "cell_type": "markdown",
   "id": "769d7bd1-7fd1-483b-9eb6-a816ad66ba55",
   "metadata": {},
   "source": [
    "# Medical Cost Personal Datasets"
   ]
  },
  {
   "cell_type": "markdown",
   "id": "6234ccbc-f977-4dd3-bdbc-c1eb3b2797d3",
   "metadata": {},
   "source": [
    "Dataset at kaggle -> [link](https://www.kaggle.com/datasets/mirichoi0218/insurance)\n",
    "\n",
    "Dataset at github -> [link](https://github.com/stedy/Machine-Learning-with-R-datasets/blob/master/insurance.csv)"
   ]
  },
  {
   "cell_type": "markdown",
   "id": "fecc4bd7-b80a-4388-9691-b8504655ab1d",
   "metadata": {},
   "source": [
    "## About Dataset\n",
    "age: age of primary beneficiary\n",
    "\n",
    "sex: insurance contractor gender, female, male\n",
    "\n",
    "bmi: Body mass index, providing an understanding of body, weights that are relatively high or low relative to height,\n",
    "objective index of body weight (kg / m ^ 2) using the ratio of height to weight, ideally 18.5 to 24.9\n",
    "\n",
    "children: Number of children covered by health insurance / Number of dependents\n",
    "\n",
    "smoker: Smoking\n",
    "\n",
    "region: the beneficiary's residential area in the US, northeast, southeast, southwest, northwest.\n",
    "\n",
    "charges: Individual medical costs billed by health insurance"
   ]
  },
  {
   "cell_type": "code",
   "execution_count": 7,
   "id": "162d0586-a883-4f87-af90-3e948b2c5140",
   "metadata": {},
   "outputs": [],
   "source": [
    "### Importing libraries\n",
    "import pandas as pd\n",
    "import tensorflow as tf\n",
    "import matplotlib.pyplot as plt\n",
    "import seaborn as sns"
   ]
  },
  {
   "cell_type": "code",
   "execution_count": 60,
   "id": "ff63ae18-3b7c-4ad0-98e1-c16c0b68831f",
   "metadata": {},
   "outputs": [],
   "source": [
    "from sklearn.compose import ColumnTransformer\n",
    "from sklearn.pipeline import Pipeline\n",
    "from sklearn.preprocessing import OneHotEncoder,StandardScaler,MinMaxScaler\n",
    "from sklearn.impute import SimpleImputer\n",
    "from sklearn.model_selection import train_test_split"
   ]
  },
  {
   "cell_type": "code",
   "execution_count": 5,
   "id": "5d3f6981-cff5-487c-b44a-b84cd12c9cde",
   "metadata": {},
   "outputs": [],
   "source": [
    "df = pd.read_csv(\"https://raw.githubusercontent.com/stedy/Machine-Learning-with-R-datasets/master/insurance.csv\")"
   ]
  },
  {
   "cell_type": "code",
   "execution_count": 6,
   "id": "ca9d8941-b8d3-460e-94e0-8fe354b3297f",
   "metadata": {},
   "outputs": [
    {
     "data": {
      "text/html": [
       "<div>\n",
       "<style scoped>\n",
       "    .dataframe tbody tr th:only-of-type {\n",
       "        vertical-align: middle;\n",
       "    }\n",
       "\n",
       "    .dataframe tbody tr th {\n",
       "        vertical-align: top;\n",
       "    }\n",
       "\n",
       "    .dataframe thead th {\n",
       "        text-align: right;\n",
       "    }\n",
       "</style>\n",
       "<table border=\"1\" class=\"dataframe\">\n",
       "  <thead>\n",
       "    <tr style=\"text-align: right;\">\n",
       "      <th></th>\n",
       "      <th>age</th>\n",
       "      <th>sex</th>\n",
       "      <th>bmi</th>\n",
       "      <th>children</th>\n",
       "      <th>smoker</th>\n",
       "      <th>region</th>\n",
       "      <th>charges</th>\n",
       "    </tr>\n",
       "  </thead>\n",
       "  <tbody>\n",
       "    <tr>\n",
       "      <th>0</th>\n",
       "      <td>19</td>\n",
       "      <td>female</td>\n",
       "      <td>27.900</td>\n",
       "      <td>0</td>\n",
       "      <td>yes</td>\n",
       "      <td>southwest</td>\n",
       "      <td>16884.92400</td>\n",
       "    </tr>\n",
       "    <tr>\n",
       "      <th>1</th>\n",
       "      <td>18</td>\n",
       "      <td>male</td>\n",
       "      <td>33.770</td>\n",
       "      <td>1</td>\n",
       "      <td>no</td>\n",
       "      <td>southeast</td>\n",
       "      <td>1725.55230</td>\n",
       "    </tr>\n",
       "    <tr>\n",
       "      <th>2</th>\n",
       "      <td>28</td>\n",
       "      <td>male</td>\n",
       "      <td>33.000</td>\n",
       "      <td>3</td>\n",
       "      <td>no</td>\n",
       "      <td>southeast</td>\n",
       "      <td>4449.46200</td>\n",
       "    </tr>\n",
       "    <tr>\n",
       "      <th>3</th>\n",
       "      <td>33</td>\n",
       "      <td>male</td>\n",
       "      <td>22.705</td>\n",
       "      <td>0</td>\n",
       "      <td>no</td>\n",
       "      <td>northwest</td>\n",
       "      <td>21984.47061</td>\n",
       "    </tr>\n",
       "    <tr>\n",
       "      <th>4</th>\n",
       "      <td>32</td>\n",
       "      <td>male</td>\n",
       "      <td>28.880</td>\n",
       "      <td>0</td>\n",
       "      <td>no</td>\n",
       "      <td>northwest</td>\n",
       "      <td>3866.85520</td>\n",
       "    </tr>\n",
       "  </tbody>\n",
       "</table>\n",
       "</div>"
      ],
      "text/plain": [
       "   age     sex     bmi  children smoker     region      charges\n",
       "0   19  female  27.900         0    yes  southwest  16884.92400\n",
       "1   18    male  33.770         1     no  southeast   1725.55230\n",
       "2   28    male  33.000         3     no  southeast   4449.46200\n",
       "3   33    male  22.705         0     no  northwest  21984.47061\n",
       "4   32    male  28.880         0     no  northwest   3866.85520"
      ]
     },
     "execution_count": 6,
     "metadata": {},
     "output_type": "execute_result"
    }
   ],
   "source": [
    "df.head()"
   ]
  },
  {
   "cell_type": "code",
   "execution_count": 8,
   "id": "a089762d-4250-4568-b966-9fac82c82992",
   "metadata": {},
   "outputs": [
    {
     "data": {
      "text/plain": [
       "(1338, 7)"
      ]
     },
     "execution_count": 8,
     "metadata": {},
     "output_type": "execute_result"
    }
   ],
   "source": [
    "df.shape"
   ]
  },
  {
   "cell_type": "code",
   "execution_count": 9,
   "id": "221ecc47-3a6d-4945-b9b2-23cd1560aa64",
   "metadata": {},
   "outputs": [
    {
     "name": "stdout",
     "output_type": "stream",
     "text": [
      "<class 'pandas.core.frame.DataFrame'>\n",
      "RangeIndex: 1338 entries, 0 to 1337\n",
      "Data columns (total 7 columns):\n",
      " #   Column    Non-Null Count  Dtype  \n",
      "---  ------    --------------  -----  \n",
      " 0   age       1338 non-null   int64  \n",
      " 1   sex       1338 non-null   object \n",
      " 2   bmi       1338 non-null   float64\n",
      " 3   children  1338 non-null   int64  \n",
      " 4   smoker    1338 non-null   object \n",
      " 5   region    1338 non-null   object \n",
      " 6   charges   1338 non-null   float64\n",
      "dtypes: float64(2), int64(2), object(3)\n",
      "memory usage: 73.3+ KB\n"
     ]
    }
   ],
   "source": [
    "df.info()"
   ]
  },
  {
   "cell_type": "code",
   "execution_count": 11,
   "id": "e6d97a64-e96d-4f9f-919d-42edd0e5662c",
   "metadata": {},
   "outputs": [],
   "source": [
    "target = df.charges"
   ]
  },
  {
   "cell_type": "code",
   "execution_count": 12,
   "id": "17d61ce4-720c-4bec-8020-837c07c3e677",
   "metadata": {},
   "outputs": [],
   "source": [
    "df.drop(columns=['charges'],inplace=True)"
   ]
  },
  {
   "cell_type": "code",
   "execution_count": 15,
   "id": "b342cf6b-82db-475f-9ba9-b0a53028299f",
   "metadata": {},
   "outputs": [],
   "source": [
    "cat_col = df.select_dtypes(include='object').columns"
   ]
  },
  {
   "cell_type": "code",
   "execution_count": 17,
   "id": "c14e6951-663c-4f59-a845-0f33d4de4a98",
   "metadata": {},
   "outputs": [],
   "source": [
    "num_col = df.select_dtypes(exclude='object').columns"
   ]
  },
  {
   "cell_type": "code",
   "execution_count": 19,
   "id": "59519a70-3679-4298-864c-ed74444f8e6f",
   "metadata": {},
   "outputs": [
    {
     "data": {
      "text/plain": [
       "age         0\n",
       "sex         0\n",
       "bmi         0\n",
       "children    0\n",
       "smoker      0\n",
       "region      0\n",
       "dtype: int64"
      ]
     },
     "execution_count": 19,
     "metadata": {},
     "output_type": "execute_result"
    }
   ],
   "source": [
    "df.isna().sum()"
   ]
  },
  {
   "cell_type": "code",
   "execution_count": 22,
   "id": "d853b017-b71c-4120-a171-71175a9cf60c",
   "metadata": {},
   "outputs": [],
   "source": [
    "## creating pipelines\n",
    "num_pipeline = Pipeline([(\"Imputer\",SimpleImputer(strategy=\"mean\")),\n",
    "                          (\"Scaler\",StandardScaler())])\n",
    "cat_pipeline = Pipeline([(\"Imputer\",SimpleImputer(strategy=\"most_frequent\")),\n",
    "                         (\"OneHot\",OneHotEncoder())])\n",
    "ct = ColumnTransformer([(\"Num_pipeline\",num_pipeline,num_col),\n",
    "                        (\"Cat_pipeline\",cat_pipeline,cat_col)])"
   ]
  },
  {
   "cell_type": "code",
   "execution_count": 61,
   "id": "d04fb0e3-9339-48e3-8f47-4d4d9e51b65c",
   "metadata": {},
   "outputs": [],
   "source": [
    "cat_pipe = Pipeline([(\"impute\",SimpleImputer(strategy=\"most_frequent\")),\n",
    "                     (\"onehot\",OneHotEncoder())])\n",
    "num_pipe = Pipeline([(\"impute\",SimpleImputer(strategy=\"mean\")),\n",
    "                     (\"scaler\",MinMaxScaler())])\n",
    "ct1 = ColumnTransformer([(\"cat\",cat_pipe,cat_col),\n",
    "                         (\"num\",num_pipe,num_col)])"
   ]
  },
  {
   "cell_type": "code",
   "execution_count": 74,
   "id": "2ad2b44f-668f-4719-adb5-d053f85f9485",
   "metadata": {},
   "outputs": [],
   "source": [
    "x_train,x_test,y_train,y_test = train_test_split(df,target,test_size=0.2,random_state=73)"
   ]
  },
  {
   "cell_type": "code",
   "execution_count": 75,
   "id": "72eecc27-4f0b-40be-89a2-3d0b7e2198f2",
   "metadata": {},
   "outputs": [],
   "source": [
    "x_train = ct.fit_transform(x_train)\n",
    "#x_train = ct1.fit_transform(x_train)"
   ]
  },
  {
   "cell_type": "code",
   "execution_count": 76,
   "id": "2bee7ae5-3e64-4bb6-8b71-29231139af8a",
   "metadata": {},
   "outputs": [],
   "source": [
    "x_test = ct.transform(x_test)\n",
    "#x_test = ct1.transform(x_test)"
   ]
  },
  {
   "cell_type": "code",
   "execution_count": 77,
   "id": "ad8ae70c-c637-4265-b0d0-09fc060e8392",
   "metadata": {},
   "outputs": [
    {
     "data": {
      "text/plain": [
       "array([0.97073578, 0.24286369, 0.74332572, 1.        , 0.        ,\n",
       "       1.        , 0.        , 1.        , 0.        , 0.        ,\n",
       "       0.        ])"
      ]
     },
     "execution_count": 77,
     "metadata": {},
     "output_type": "execute_result"
    }
   ],
   "source": [
    "x_train[0]"
   ]
  },
  {
   "cell_type": "code",
   "execution_count": 78,
   "id": "b415849d-105d-4220-b6e8-7b92b2293b19",
   "metadata": {},
   "outputs": [],
   "source": [
    "x_train = tf.constant(x_train)\n",
    "x_test = tf.constant(x_test)\n",
    "y_train = tf.constant(y_train)\n",
    "y_test = tf.constant(y_test)"
   ]
  },
  {
   "cell_type": "code",
   "execution_count": 79,
   "id": "76157a47-87b2-4465-b3a7-f56291008bc9",
   "metadata": {},
   "outputs": [
    {
     "data": {
      "text/plain": [
       "TensorShape([11])"
      ]
     },
     "execution_count": 79,
     "metadata": {},
     "output_type": "execute_result"
    }
   ],
   "source": [
    "x_train[0].shape"
   ]
  },
  {
   "cell_type": "code",
   "execution_count": 80,
   "id": "2f2994ed-6f23-4274-940b-047d9690d0e2",
   "metadata": {},
   "outputs": [
    {
     "name": "stdout",
     "output_type": "stream",
     "text": [
      "Model: \"sequential_13\"\n",
      "_________________________________________________________________\n",
      " Layer (type)                Output Shape              Param #   \n",
      "=================================================================\n",
      " dense_33 (Dense)            (None, 10)                120       \n",
      "                                                                 \n",
      " dense_34 (Dense)            (None, 1)                 11        \n",
      "                                                                 \n",
      "=================================================================\n",
      "Total params: 131 (524.00 Byte)\n",
      "Trainable params: 131 (524.00 Byte)\n",
      "Non-trainable params: 0 (0.00 Byte)\n",
      "_________________________________________________________________\n"
     ]
    }
   ],
   "source": [
    "model = tf.keras.Sequential()\n",
    "model.add(tf.keras.layers.Dense(10,input_shape=x_train[0].shape))\n",
    "model.add(tf.keras.layers.Dense(1))\n",
    "\n",
    "model.compile(\n",
    "    loss = \"mae\",\n",
    "    optimizer = tf.keras.optimizers.SGD(),\n",
    "    metrics = \"mae\"\n",
    ")\n",
    "\n",
    "model.summary()"
   ]
  },
  {
   "cell_type": "code",
   "execution_count": 81,
   "id": "1d42a7f0-d00e-4421-9939-843054eeadfa",
   "metadata": {},
   "outputs": [],
   "source": [
    "from tensorflow.keras.utils import plot_model"
   ]
  },
  {
   "cell_type": "code",
   "execution_count": 82,
   "id": "62ebd9fe-5413-4c94-973b-7fc06eee557c",
   "metadata": {},
   "outputs": [
    {
     "data": {
      "image/png": "[encoded data removed]",
      "text/plain": [
       "<IPython.core.display.Image object>"
      ]
     },
     "execution_count": 82,
     "metadata": {},
     "output_type": "execute_result"
    }
   ],
   "source": [
    "plot_model(model=model,show_shapes=True)"
   ]
  },
  {
   "cell_type": "code",
   "execution_count": 83,
   "id": "c29f64c3-c2f7-4f29-9a48-1cadbe8bfd3a",
   "metadata": {},
   "outputs": [],
   "source": [
    "hist = model.fit(x_train,y_train,epochs=50,verbose=0)"
   ]
  },
  {
   "cell_type": "code",
   "execution_count": 84,
   "id": "98f93730-4a3d-4ca0-a36b-5c2a3b8ac3e3",
   "metadata": {},
   "outputs": [
    {
     "name": "stdout",
     "output_type": "stream",
     "text": [
      "9/9 [==============================] - 0s 1ms/step - loss: 3916.4524 - mae: 3916.4524\n"
     ]
    },
    {
     "data": {
      "text/plain": [
       "[3916.452392578125, 3916.452392578125]"
      ]
     },
     "execution_count": 84,
     "metadata": {},
     "output_type": "execute_result"
    }
   ],
   "source": [
    "model.evaluate(x_test,y_test)"
   ]
  },
  {
   "cell_type": "code",
   "execution_count": 85,
   "id": "f9fee298-6a74-4b42-8f8e-f2323282ed51",
   "metadata": {},
   "outputs": [
    {
     "name": "stdout",
     "output_type": "stream",
     "text": [
      "Model: \"sequential_14\"\n",
      "_________________________________________________________________\n",
      " Layer (type)                Output Shape              Param #   \n",
      "=================================================================\n",
      " dense_35 (Dense)            (None, 50)                600       \n",
      "                                                                 \n",
      " dense_36 (Dense)            (None, 50)                2550      \n",
      "                                                                 \n",
      " dense_37 (Dense)            (None, 1)                 51        \n",
      "                                                                 \n",
      "=================================================================\n",
      "Total params: 3201 (12.50 KB)\n",
      "Trainable params: 3201 (12.50 KB)\n",
      "Non-trainable params: 0 (0.00 Byte)\n",
      "_________________________________________________________________\n",
      "9/9 [==============================] - 0s 1ms/step - loss: 3897.6680 - mae: 3897.6680\n"
     ]
    },
    {
     "data": {
      "text/plain": [
       "[3897.66796875, 3897.66796875]"
      ]
     },
     "execution_count": 85,
     "metadata": {},
     "output_type": "execute_result"
    }
   ],
   "source": [
    "model = tf.keras.Sequential()\n",
    "model.add(tf.keras.layers.Dense(50,input_shape=x_train[0].shape))\n",
    "model.add(tf.keras.layers.Dense(50))\n",
    "model.add(tf.keras.layers.Dense(1))\n",
    "\n",
    "model.compile(\n",
    "    loss = \"mae\",\n",
    "    optimizer = tf.keras.optimizers.Adam(),\n",
    "    metrics = \"mae\"\n",
    ")\n",
    "\n",
    "model.summary()\n",
    "\n",
    "hist1 = model.fit(x_train,y_train,epochs=200,verbose=0)\n",
    "model.evaluate(x_test,y_test)"
   ]
  },
  {
   "cell_type": "code",
   "execution_count": 86,
   "id": "47860129-b785-44ab-ad54-670758431023",
   "metadata": {},
   "outputs": [
    {
     "name": "stdout",
     "output_type": "stream",
     "text": [
      "9/9 [==============================] - 0s 2ms/step - loss: 3208.1274 - mae: 3208.1274\n"
     ]
    },
    {
     "data": {
      "text/plain": [
       "[3208.12744140625, 3208.12744140625]"
      ]
     },
     "execution_count": 86,
     "metadata": {},
     "output_type": "execute_result"
    }
   ],
   "source": [
    "model = tf.keras.Sequential()\n",
    "model.add(tf.keras.layers.Dense(50,input_shape=x_train[0].shape))\n",
    "#model.add(tf.keras.layers.Dense(50,activation=\"relu\"))\n",
    "model.add(tf.keras.layers.Dense(10,activation=\"relu\"))\n",
    "model.add(tf.keras.layers.Dense(1))\n",
    "\n",
    "model.compile(\n",
    "    loss = \"mae\",\n",
    "    optimizer = tf.keras.optimizers.SGD(),\n",
    "    metrics = [\"mae\"]\n",
    ")\n",
    "\n",
    "hist = model.fit(x_train,y_train,epochs=100,verbose=0)\n",
    "model.evaluate(x_test,y_test)"
   ]
  },
  {
   "cell_type": "code",
   "execution_count": 87,
   "id": "b99df200-46f9-478d-96ad-8e1634c202ab",
   "metadata": {},
   "outputs": [
    {
     "data": {
      "text/plain": [
       "<Axes: >"
      ]
     },
     "execution_count": 87,
     "metadata": {},
     "output_type": "execute_result"
    },
    {
     "data": {
      "image/png": "[encoded data removed]",
      "text/plain": [
       "<Figure size 640x480 with 1 Axes>"
      ]
     },
     "metadata": {},
     "output_type": "display_data"
    }
   ],
   "source": [
    "pd.DataFrame(hist.history).plot()"
   ]
  },
  {
   "cell_type": "code",
   "execution_count": 88,
   "id": "48dfe729-a653-4827-92ba-54d2106ea2b9",
   "metadata": {},
   "outputs": [
    {
     "data": {
      "text/html": [
       "<div>\n",
       "<style scoped>\n",
       "    .dataframe tbody tr th:only-of-type {\n",
       "        vertical-align: middle;\n",
       "    }\n",
       "\n",
       "    .dataframe tbody tr th {\n",
       "        vertical-align: top;\n",
       "    }\n",
       "\n",
       "    .dataframe thead th {\n",
       "        text-align: right;\n",
       "    }\n",
       "</style>\n",
       "<table border=\"1\" class=\"dataframe\">\n",
       "  <thead>\n",
       "    <tr style=\"text-align: right;\">\n",
       "      <th></th>\n",
       "      <th>loss</th>\n",
       "      <th>mae</th>\n",
       "    </tr>\n",
       "  </thead>\n",
       "  <tbody>\n",
       "    <tr>\n",
       "      <th>0</th>\n",
       "      <td>13134.821289</td>\n",
       "      <td>13134.821289</td>\n",
       "    </tr>\n",
       "    <tr>\n",
       "      <th>1</th>\n",
       "      <td>13092.666016</td>\n",
       "      <td>13092.666016</td>\n",
       "    </tr>\n",
       "    <tr>\n",
       "      <th>2</th>\n",
       "      <td>8108.271973</td>\n",
       "      <td>8108.271973</td>\n",
       "    </tr>\n",
       "    <tr>\n",
       "      <th>3</th>\n",
       "      <td>5220.022461</td>\n",
       "      <td>5220.022461</td>\n",
       "    </tr>\n",
       "    <tr>\n",
       "      <th>4</th>\n",
       "      <td>4536.131836</td>\n",
       "      <td>4536.131836</td>\n",
       "    </tr>\n",
       "  </tbody>\n",
       "</table>\n",
       "</div>"
      ],
      "text/plain": [
       "           loss           mae\n",
       "0  13134.821289  13134.821289\n",
       "1  13092.666016  13092.666016\n",
       "2   8108.271973   8108.271973\n",
       "3   5220.022461   5220.022461\n",
       "4   4536.131836   4536.131836"
      ]
     },
     "execution_count": 88,
     "metadata": {},
     "output_type": "execute_result"
    }
   ],
   "source": [
    "t =pd.DataFrame(hist.history)\n",
    "t.head()"
   ]
  },
  {
   "cell_type": "code",
   "execution_count": 59,
   "id": "f7217f93-3fe3-4c84-8457-d27b1906a057",
   "metadata": {},
   "outputs": [],
   "source": [
    "## Earlystopping callbacks"
   ]
  },
  {
   "cell_type": "code",
   "execution_count": null,
   "id": "382f9e4e-de46-4575-9900-fa3debfca35c",
   "metadata": {},
   "outputs": [],
   "source": []
  }
 ],
 "metadata": {
  "kernelspec": {
   "display_name": "Python 3 (ipykernel)",
   "language": "python",
   "name": "python3"
  },
  "language_info": {
   "codemirror_mode": {
    "name": "ipython",
    "version": 3
   },
   "file_extension": ".py",
   "mimetype": "text/x-python",
   "name": "python",
   "nbconvert_exporter": "python",
   "pygments_lexer": "ipython3",
   "version": "3.11.5"
  }
 },
 "nbformat": 4,
 "nbformat_minor": 5
}
